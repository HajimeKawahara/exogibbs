{
 "cells": [
  {
   "cell_type": "markdown",
   "id": "933e48a6",
   "metadata": {},
   "source": [
    "# Conversion from fastchem/logK coefficient to hvector"
   ]
  },
  {
   "cell_type": "markdown",
   "id": "fe78daab",
   "metadata": {},
   "source": [
    "In FastChemm logK is defined by\n",
    "\n",
    "$ - RT \\, \\log{K_i} = \\delta_f G_i - \\sum_{j \\in \\mathrm{elements}} \\nu_{ij} \\delta_f G_j$.\n",
    "\n",
    "Therefore, $\\delta_f G_\\mathrm{H_2} = - R T \\log{K_\\mathrm{H_2}} + 2 \\delta_f G_\\mathrm{H}$.  \n",
    "\n",
    "Or recalling that \"H2\" is the standard species, $\\delta_f G_\\mathrm{H} = \\frac{1}{2} R T \\log{K_\\mathrm{H_2}}$\n",
    "\n",
    "\n",
    "\n",
    "for non-ref element-species,\n",
    "$\\delta_f G_\\mathrm{element,j} = \\frac{1}{\\nu} R T \\log{K_\\mathrm{ref \\, for \\, j}}$\n",
    "\n",
    "for ref-element species, \n",
    "$\\delta_f G_\\mathrm{element,j} = 0$\n",
    "\n",
    "for ref-species (non element)\n",
    "$\\delta_f G_\\mathrm{ref,j} = 0$\n",
    "\n",
    "for non ref-species, \n",
    "$ \\delta_f G_i = - RT \\, \\log{K_i} + \\sum_{j \\in \\mathrm{elements}} \\nu_{ij} \\delta_f G_{element, j}$.\n",
    "\n",
    "\n",
    "\n",
    "Or using $logk(\\boldsymbol{a}) = a_1 / T + a_2 \\log(T) + a_3 + a_4 T + a_5 T^2$,\n",
    "\n",
    "for non-ref element-species,\n",
    "$\\delta_f G_{\\mathrm{element},j} = \\frac{1}{\\nu_j} R T \\, logk(\\boldsymbol{a}_{\\mathrm{ref\\,for\\,},j}) = R T \\, logk(\\boldsymbol{a}_{\\mathrm{ref\\,for\\,},j}/\\nu_j) $\n",
    "\n",
    "for ref-element species, \n",
    "$\\delta_f G_\\mathrm{element,j} = 0 = R T \\, logk(\\boldsymbol{0})$\n",
    "\n",
    "We can define $\\boldsymbol{b_{j}}$ as $\\delta_f G_\\mathrm{element,j} = R T \\, logk(\\boldsymbol{b_{element, j}})$, then for non-ref species\n",
    "\n",
    "$ \\delta_f G_i = - RT logk(\\boldsymbol{a}_i) + \\sum_{j}  R T \\, logk(\\boldsymbol{\\nu_{ij} b_{j}}) = R T \\, logk(- \\boldsymbol{a}_i + \\sum_{j} \\boldsymbol{\\nu_{ij} b_{element, j}} )$.\n",
    "\n",
    "for ref-species\n",
    "$\\delta_f G_\\mathrm{ref,j} = R T \\, logk(\\boldsymbol{0})$\n",
    "\n"
   ]
  },
  {
   "cell_type": "code",
   "execution_count": null,
   "id": "45fedea5",
   "metadata": {},
   "outputs": [
    {
     "name": "stdout",
     "output_type": "stream",
     "text": [
      "Elements not included in FastChem data: ['Br', 'D', 'I']\n"
     ]
    }
   ],
   "source": []
  },
  {
   "cell_type": "code",
   "execution_count": null,
   "id": "6bcb2d3b",
   "metadata": {},
   "outputs": [
    {
     "name": "stdout",
     "output_type": "stream",
     "text": [
      "Elements not included in FastChem data: ['Br', 'D', 'I']\n"
     ]
    }
   ],
   "source": []
  },
  {
   "cell_type": "code",
   "execution_count": null,
   "id": "a96d99c1",
   "metadata": {},
   "outputs": [],
   "source": []
  }
 ],
 "metadata": {
  "kernelspec": {
   "display_name": "base",
   "language": "python",
   "name": "python3"
  },
  "language_info": {
   "codemirror_mode": {
    "name": "ipython",
    "version": 3
   },
   "file_extension": ".py",
   "mimetype": "text/x-python",
   "name": "python",
   "nbconvert_exporter": "python",
   "pygments_lexer": "ipython3",
   "version": "3.10.9"
  }
 },
 "nbformat": 4,
 "nbformat_minor": 5
}
